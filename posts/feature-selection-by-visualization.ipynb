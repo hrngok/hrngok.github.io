{
 "cells": [
  {
   "cell_type": "markdown",
   "metadata": {},
   "source": [
    "Write your post here."
   ]
  }
 ],
 "metadata": {
  "kernelspec": {
   "display_name": "Python 3",
   "env": {},
   "interrupt_mode": "signal",
   "language": "python",
   "metadata": {},
   "name": "python3"
  },
  "nikola": {
   "category": "",
   "date": "2018-10-30 00:39:09 UTC+01:00",
   "description": "",
   "link": "",
   "slug": "feature-selection-by-visualization",
   "tags": "",
   "title": "Feature selection by visualization",
   "type": "text"
  }
 },
 "nbformat": 4,
 "nbformat_minor": 2
}
