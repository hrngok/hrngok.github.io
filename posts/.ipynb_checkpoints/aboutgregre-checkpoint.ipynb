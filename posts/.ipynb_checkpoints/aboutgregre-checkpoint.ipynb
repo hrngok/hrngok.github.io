{
 "cells": [
  {
   "cell_type": "markdown",
   "metadata": {},
   "source": [
    "## He is a perfect cat\n",
    "\n",
    "very happy very sneaky\n",
    "\n",
    "  we love him\n",
    "\n",
    "- say hi to him"
   ]
  }
 ],
 "metadata": {
  "kernelspec": {
   "display_name": "Python 3",
   "language": "python",
   "name": "python3"
  },
  "language_info": {
   "codemirror_mode": {
    "name": "ipython",
    "version": 3
   },
   "file_extension": ".py",
   "mimetype": "text/x-python",
   "name": "python",
   "nbconvert_exporter": "python",
   "pygments_lexer": "ipython3",
   "version": "3.6.6"
  },
  "nikola": {
   "category": "",
   "date": "2018-10-20 16:47:47 UTC+02:00",
   "description": "",
   "link": "",
   "slug": "aboutgregre",
   "tags": "",
   "title": "aboutgregre",
   "type": "text"
  }
 },
 "nbformat": 4,
 "nbformat_minor": 2
}
