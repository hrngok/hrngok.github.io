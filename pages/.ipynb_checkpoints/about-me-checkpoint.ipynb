{
 "cells": [
  {
   "cell_type": "markdown",
   "metadata": {},
   "source": [
    "After having an applied mathematics degree and worked in finance, i have been investing all my time and energy for the data science skills and projects. \n",
    "\n",
    "I am fascinated with finding insights in data and making sense of it. <br> \n",
    "Here i will try to share my small projects and some articles about data science, generally about machine learning with Python."
   ]
  }
 ],
 "metadata": {
  "kernelspec": {
   "display_name": "Python 3",
   "language": "python",
   "name": "python3"
  },
  "language_info": {
   "codemirror_mode": {
    "name": "ipython",
    "version": 3
   },
   "file_extension": ".py",
   "mimetype": "text/x-python",
   "name": "python",
   "nbconvert_exporter": "python",
   "pygments_lexer": "ipython3",
   "version": "3.5.5"
  },
  "nikola": {
   "category": "",
   "date": "2018-10-20 18:04:12 UTC+02:00",
   "description": "",
   "link": "",
   "slug": "about-me",
   "tags": "",
   "title": "Harun Gok",
   "type": "text"
  }
 },
 "nbformat": 4,
 "nbformat_minor": 2
}
